{
 "cells": [
  {
   "cell_type": "code",
   "execution_count": 5,
   "metadata": {},
   "outputs": [
    {
     "name": "stdout",
     "output_type": "stream",
     "text": [
      "Python: 3.6.1 |Anaconda custom (64-bit)| (default, May 11 2017, 13:25:24) [MSC v.1900 64 bit (AMD64)]\n",
      "scipy: 0.19.1\n",
      "numpy: 1.12.1\n",
      "matplotlib: 2.0.2\n",
      "pandas: 0.20.3\n",
      "sklearn: 0.18.1\n"
     ]
    }
   ],
   "source": [
    "# Python version\n",
    "import sys\n",
    "print('Python: {}'.format(sys.version))\n",
    "# scipy\n",
    "import scipy\n",
    "print('scipy: {}'.format(scipy.__version__))\n",
    "# numpy\n",
    "import numpy\n",
    "print('numpy: {}'.format(numpy.__version__))\n",
    "# matplotlib\n",
    "import matplotlib\n",
    "print('matplotlib: {}'.format(matplotlib.__version__))\n",
    "# pandas\n",
    "import pandas\n",
    "print('pandas: {}'.format(pandas.__version__))\n",
    "# scikit-learn\n",
    "import sklearn\n",
    "print('sklearn: {}'.format(sklearn.__version__))\n",
    "\n",
    "# In addition to the online example, these packages below help dealinf with the file system\n",
    "import glob\n",
    "import os\n",
    "from PIL import Image"
   ]
  },
  {
   "cell_type": "code",
   "execution_count": 7,
   "metadata": {
    "collapsed": true
   },
   "outputs": [],
   "source": [
    "## Part 1: Lets do a loop"
   ]
  },
  {
   "cell_type": "code",
   "execution_count": 7,
   "metadata": {
    "collapsed": true
   },
   "outputs": [],
   "source": [
    "# Load libraries\n",
    "import pandas\n",
    "from pandas.tools.plotting import scatter_matrix\n",
    "import matplotlib.pyplot as plt\n",
    "from sklearn import model_selection\n",
    "from sklearn.metrics import classification_report\n",
    "from sklearn.metrics import confusion_matrix\n",
    "from sklearn.metrics import accuracy_score\n",
    "from sklearn.linear_model import LogisticRegression\n",
    "from sklearn.tree import DecisionTreeClassifier\n",
    "from sklearn.neighbors import KNeighborsClassifier\n",
    "from sklearn.discriminant_analysis import LinearDiscriminantAnalysis\n",
    "from sklearn.naive_bayes import GaussianNB\n",
    "from sklearn.svm import SVC\n",
    "from datetime import date\n",
    "import sys"
   ]
  },
  {
   "cell_type": "code",
   "execution_count": 3,
   "metadata": {},
   "outputs": [
    {
     "ename": "SyntaxError",
     "evalue": "(unicode error) 'unicodeescape' codec can't decode bytes in position 2-3: truncated \\UXXXXXXXX escape (<ipython-input-3-7de5f9bcd51e>, line 1)",
     "output_type": "error",
     "traceback": [
      "\u001b[1;36m  File \u001b[1;32m\"<ipython-input-3-7de5f9bcd51e>\"\u001b[1;36m, line \u001b[1;32m1\u001b[0m\n\u001b[1;33m    dir = 'C:\\Users\\Adam Shelbourne\\Uni\\Physics\\Astr310\\Python\\mu\\daily\\*'\u001b[0m\n\u001b[1;37m         ^\u001b[0m\n\u001b[1;31mSyntaxError\u001b[0m\u001b[1;31m:\u001b[0m (unicode error) 'unicodeescape' codec can't decode bytes in position 2-3: truncated \\UXXXXXXXX escape\n"
     ]
    }
   ],
   "source": [
    "dir = 'C:\\Users\\Adam Shelbourne\\Uni\\Physics\\Astr310\\Python\\mu\\daily\\*'\n",
    "names = ['UTCDateTime', 'LocalDateTime', 'Temperature', 'Counts', 'Frequency', 'MSAS']\n",
    "print(glob.glob(dir))"
   ]
  },
  {
   "cell_type": "code",
   "execution_count": 9,
   "metadata": {},
   "outputs": [
    {
     "name": "stdout",
     "output_type": "stream",
     "text": [
      "385\n"
     ]
    }
   ],
   "source": [
    "# Set the common time grid onto which each night is sampled. The common grid \n",
    "# is defined by the start time defined below, and the number of hours from that time\n",
    "beginh = 16 # Hour of start time (hour)\n",
    "beginm = 30 # Hour of start time (minute)\n",
    "nhrs = 15   # Number of hours to extend time grid\n",
    "\n",
    "#print  (glob.glob(r'C:\\\\Users\\\\Adam Shelbourne\\\\Uni\\\\Physics\\\\Astr310\\\\Python\\\\mu\\\\daily\\\\20*.dat'))\n",
    "\n",
    "numbfile = len(glob.glob(r'C:\\\\Users\\\\Adam Shelbourne\\\\Uni\\\\Physics\\\\Astr310\\\\Python\\\\mu\\\\daily\\\\20*.dat'))\n",
    "print (numbfile)"
   ]
  },
  {
   "cell_type": "code",
   "execution_count": 43,
   "metadata": {},
   "outputs": [],
   "source": [
    "javascript= r'C:\\\\Users\\\\Adam Shelbourne\\\\Uni\\\\Physics\\\\Astr310\\\\Python\\\\mu\\\\graph\\\\darkskiesdata.js'\n",
    "f2=open(javascript,'w')\n",
    "#Write Header first 7 lines\n",
    "f2.write(str(\"Vue.use(VueEventCalendar.default, {locale: \\'en\\', color: \\'#4fc08d\\'}) //hack here (.default) \\\n",
    "new Vue({ \\\n",
    "  el: \\'#example\\', \\\n",
    "  data: function () { \\\n",
    "    return { \\\n",
    "      demoEvents:\\\n",
    "\t  [\"))\n",
    "#loop through and write to file \n",
    "for infile in sorted(glob.glob(r'C:\\\\Users\\\\Adam Shelbourne\\\\Uni\\\\Physics\\\\Astr310\\\\Python\\\\mu\\\\graph\\\\20*.png')):\n",
    "    \n",
    "    f2.write(str(\"{\" ))\n",
    "    \n",
    "    f2.write(str((\"date:\" + \"\\'\" + (infile[69:73])+ \"/\" + (infile[73:75]) + \"/\" + (infile[75:77]) + \"\\'\")))\n",
    "    f2.write(str((\"title: \\'Macquarie Uni\\'\" )))\n",
    "    f2.write(str((\"desc:<img src=\" + \"\\'\" + infile + \"\\'\" )))\n",
    "    f2.write(str(\"},\" ))\n",
    "\n"
   ]
  },
  {
   "cell_type": "code",
   "execution_count": 44,
   "metadata": {
    "collapsed": true
   },
   "outputs": [],
   "source": [
    "#Write my block\n",
    "\n",
    "\n",
    "f2.write(str((\"date: \\'1996/12/12\\'\")))\n",
    "f2.write(str((\"title: \\'A legend was born\\'\")))\n",
    "f2.write(str((\"desc: \\'Well done for finding my easter egg!\\'\")))\n",
    "f2.write(str(\"}\" ))\n",
    "#Write footer last 4 lines\n",
    "\n",
    "f2.close()"
   ]
  },
  {
   "cell_type": "code",
   "execution_count": null,
   "metadata": {
    "collapsed": true
   },
   "outputs": [],
   "source": []
  }
 ],
 "metadata": {
  "kernelspec": {
   "display_name": "Python 3",
   "language": "python",
   "name": "python3"
  },
  "language_info": {
   "codemirror_mode": {
    "name": "ipython",
    "version": 3
   },
   "file_extension": ".py",
   "mimetype": "text/x-python",
   "name": "python",
   "nbconvert_exporter": "python",
   "pygments_lexer": "ipython3",
   "version": "3.6.1"
  }
 },
 "nbformat": 4,
 "nbformat_minor": 2
}
